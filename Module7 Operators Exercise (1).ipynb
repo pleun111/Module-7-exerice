{
 "cells": [
  {
   "cell_type": "markdown",
   "metadata": {},
   "source": [
    "### Exercise 1\n",
    "Ask a user to enter a number. If the number is positive, print <b>Positive number</b>. Otherwise, do not print any message. Finally, print 'goodbye' message at the end."
   ]
  },
  {
   "cell_type": "code",
   "execution_count": 12,
   "metadata": {},
   "outputs": [
    {
     "name": "stdout",
     "output_type": "stream",
     "text": [
      "Please enter number-1\n",
      "Goodbye\n"
     ]
    }
   ],
   "source": [
    "num = int(input(\"Please enter number\"))\n",
    "if num>0:\n",
    "    print(\"Positive Number\")\n",
    "\n",
    "print(\"Goodbye\")"
   ]
  },
  {
   "cell_type": "markdown",
   "metadata": {},
   "source": [
    "### Exercise 2\n",
    "Ask for a code and store that answer. \n",
    "If the answer is grey then print out if you found secret code.\n",
    "Otherwise print out the code is not the secret code."
   ]
  },
  {
   "cell_type": "code",
   "execution_count": 18,
   "metadata": {},
   "outputs": [
    {
     "name": "stdout",
     "output_type": "stream",
     "text": [
      "please put the secret code:blue\n",
      "the code is not the secret code \n"
     ]
    }
   ],
   "source": [
    "code = input(\"please put the secret code:\")\n",
    "if code == \"grey\" :\n",
    "   print(\"you found secret code\")\n",
    "else :\n",
    "   print(\"the code is not the secret code \")\n"
   ]
  },
  {
   "cell_type": "markdown",
   "metadata": {},
   "source": [
    "### Exercise 3\n",
    "\n",
    "Ask a user to enter a phrase. If the word contains a number, display the \"Number found\" message. Otherwise, show the \"Number not found\" message. "
   ]
  },
  {
   "cell_type": "code",
   "execution_count": 25,
   "metadata": {},
   "outputs": [
    {
     "name": "stdout",
     "output_type": "stream",
     "text": [
      "Enter a phrase: dfasf\n",
      "Number not found\n"
     ]
    }
   ],
   "source": [
    "phrase = input(\"Enter a phrase: \")\n",
    "\n",
    "if ('0' in phrase) or ('1' in phrase) or ('2' in phrase) or ('3' in phrase) or ('4' in phrase) or ('5' in phrase) or ('6' in phrase) or ('7' in phrase) or ('8' in phrase) or ('9' in phrase) :\n",
    "    print (\"Number found in, phrase\")\n",
    "else :\n",
    "    print('Number not found')"
   ]
  },
  {
   "cell_type": "markdown",
   "metadata": {},
   "source": [
    "### Exercise 4\n",
    "\n",
    "Ask a user to enter a number. Then, only if the number is divisible by 2 and 3, show the result of the number divided by two and three in a formated string. The output should look something like this:\n",
    "        \n",
    "    Enter a number: 2\n",
    "    Bye    \n",
    "    \n",
    "    Enter a number: 60\n",
    "    60 / 2 = 30.0\n",
    "    60 / 3 = 20.0\n",
    "    Bye\n",
    "    \n",
    "    Enter a number: 3\n",
    "    Bye\n",
    "    \n",
    "    Enter a number: 10\n",
    "    Bye    "
   ]
  },
  {
   "cell_type": "code",
   "execution_count": 33,
   "metadata": {},
   "outputs": [
    {
     "name": "stdout",
     "output_type": "stream",
     "text": [
      "Please enter the number: 11\n",
      "Bye\n"
     ]
    }
   ],
   "source": [
    "number1 = int(input(\"Please enter the number: \"))\n",
    "if number1%2 ==0 and number1%3==0 :\n",
    "    print(f\"{number1}/2 = {number1/2}\")\n",
    "    print(f\"{number1}/3 = {number1/3}\")\n",
    "else:\n",
    "    print(\"Bye\")"
   ]
  },
  {
   "cell_type": "markdown",
   "metadata": {},
   "source": [
    "### Exercise 5\n",
    "Ask a user to enter a number. Determine if the number is zero, positive or negative. Use only <b>if</b> and <b>else</b> statements. \n",
    "    "
   ]
  },
  {
   "cell_type": "code",
   "execution_count": 41,
   "metadata": {},
   "outputs": [
    {
     "name": "stdout",
     "output_type": "stream",
     "text": [
      "Please enter a number: 0\n",
      "The number is zero\n"
     ]
    }
   ],
   "source": [
    "number2 = int(input(\"Please enter a number: \"))\n",
    "if number2>0 :\n",
    "    print(\"The number is positive\")\n",
    "else :\n",
    "    if number2 < 0 :\n",
    "        print(\"The number is negative\")\n",
    "    else :\n",
    "        print(\"The number is zero\")"
   ]
  },
  {
   "cell_type": "code",
   "execution_count": null,
   "metadata": {},
   "outputs": [],
   "source": []
  }
 ],
 "metadata": {
  "kernelspec": {
   "display_name": "Python 3",
   "language": "python",
   "name": "python3"
  },
  "language_info": {
   "codemirror_mode": {
    "name": "ipython",
    "version": 3
   },
   "file_extension": ".py",
   "mimetype": "text/x-python",
   "name": "python",
   "nbconvert_exporter": "python",
   "pygments_lexer": "ipython3",
   "version": "3.8.8"
  }
 },
 "nbformat": 4,
 "nbformat_minor": 4
}
